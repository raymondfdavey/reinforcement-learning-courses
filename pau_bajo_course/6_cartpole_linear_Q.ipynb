{
 "cells": [
  {
   "cell_type": "markdown",
   "metadata": {},
   "source": [
    "## CARTPOLE PROBLEM\n",
    "\n",
    "A pole is attached to a cart with an un-actuated joint. And your goal is to move the cart position, left and right, to prevent the pole from falling.\n",
    "\n",
    "**<ins>Why this problem?</ins>**\n",
    "\n",
    "So far in the course, we have used classical Reinforcement Learning algorithms, Q-learning (part 2), and SARSA (part 3) in a discrete/tabular environment.\n",
    "\n",
    "Today’s problem is slightly more complex because its state space is *too large to be discretized*. Instead, we need to level up our game and use more powerful RL algorithms.\n",
    "\n",
    "We will use `parametric Q-learning,` a technique that combines the classic Q-learning we saw in part 2, with parametric approximations, either linear ones (here in part 4) or a more complex one like neural nets (in part 5).\n",
    "\n",
    "Parametric Q-learning using neural nets (aka Deep Q-learning) lies behind many recent breakthroughs in Reinforcement Learning, like the famous Atari game player by DeepMind.\n",
    "\n",
    "Let’s get familiar with the specifics of this environment!"
   ]
  },
  {
   "cell_type": "code",
   "execution_count": 2,
   "metadata": {},
   "outputs": [],
   "source": [
    "from matplotlib import pyplot as plt\n",
    "import gym\n",
    "\n",
    "# LOAD ENVIRONMENT\n",
    "env = gym.make('CartPole-v1')"
   ]
  },
  {
   "cell_type": "code",
   "execution_count": 3,
   "metadata": {},
   "outputs": [
    {
     "data": {
      "text/plain": [
       "<matplotlib.image.AxesImage at 0x111092a70>"
      ]
     },
     "execution_count": 3,
     "metadata": {},
     "output_type": "execute_result"
    },
    {
     "data": {
      "image/png": "[encoded data removed]",
      "text/plain": [
       "<Figure size 576x432 with 1 Axes>"
      ]
     },
     "metadata": {
      "needs_background": "light"
     },
     "output_type": "display_data"
    }
   ],
   "source": [
    "# SHOW A FRAME\n",
    "env.reset()\n",
    "frame = env.render(mode='rgb_array')\n",
    "\n",
    "fig, ax = plt.subplots(figsize=(8, 6))\n",
    "ax.axes.yaxis.set_visible(False)\n",
    "min_x = env.observation_space.low[0]\n",
    "max_x = env.observation_space.high[0]\n",
    "ax.imshow(frame, extent=[min_x, max_x, 0, 8])"
   ]
  },
  {
   "cell_type": "markdown",
   "metadata": {},
   "source": [
    "#### ENVIRONMENT, ACTIONS, STATES, REWARDS\n",
    "\n",
    "![](cartpole_image.jpeg)\n",
    "\n",
    "### <ins>State</ins>\n",
    "\n",
    "State is represented by 4 values shown above:\n",
    "\n",
    " - the cart position **x** from `-2.4` to `2.4`\n",
    " - the cart velocity **v**\n",
    " - the pole angle $\\theta$ with respect to the vertical. From `-12` to `12` degrees (`-0.21` to `0.21` in radians)\n",
    " - the pole angular velocity $\\omega$. This is the rate of change of $\\theta$"
   ]
  },
  {
   "cell_type": "code",
   "execution_count": 7,
   "metadata": {},
   "outputs": [
    {
     "name": "stdout",
     "output_type": "stream",
     "text": [
      "Cart position from -4.80 to 4.80\n",
      "Cart velocity from -3.40E+38 to 3.40E+38\n",
      "Angle from -0.42 to 0.42\n",
      "Angular velocity from -3.40E+38 to 3.40E+38\n"
     ]
    }
   ],
   "source": [
    "# The state on observation space looks different though...\n",
    "x_min, v_min, angle_min, angular_v_min = env.observation_space.low\n",
    "x_max, v_max, angle_max, angular_v_max = env.observation_space.high\n",
    "\n",
    "print(f'Cart position from {x_min:.2f} to {x_max:.2f}')\n",
    "print(f'Cart velocity from {v_min:.2E} to {v_max:.2E}')\n",
    "print(f'Angle from {angle_min:.2f} to {angle_max:.2f}')\n",
    "print(f'Angular velocity from {angular_v_min:.2E} to {angular_v_max:.2E}')"
   ]
  },
  {
   "cell_type": "markdown",
   "metadata": {},
   "source": [
    "If you look at the OpenAI gym interval variables `env.observation_space.low` and `env.observation_space.high` you will see that these 2 numbers seem to be arbitrarily large or small and their intervals do NOT match what we have written above.\n",
    "\n",
    "In practice, this is not true. Both **v** and $\\omega$ have narrower intervals, but this is something you cannot directly read from the env object. You can only observe their real ranges as your agent explores the environment.\n",
    "\n",
    "This is important because the models we will use today, and in part 5, work best with **normalized inputs**. In this case, **normalized states**. And to *normalize a number* you need to know first its max and min values. These 2 values for **v** and $\\omega$ cannot be read from the env.observation_space . You need to estimate them using a bit of exploration.\n",
    "\n",
    "<ins>DO NOT BLINDLY TAKE THE VALUES IN `env.observation_space` AS THE REAL RANGES FOR EACH STATE</ins>\n",
    "\n",
    "### <ins>Episode starts and ends</ins>\n",
    "\n",
    "An episode terminates when either:\n",
    "\n",
    " - the cart goes beyond the limits: `x > 2.4` or x `< -2.4`\n",
    " - the pole is too far from the vertical: `θ > 12` degrees or `θ < -12` degrees.\n",
    " - or we reached the maximum number of episodes steps, `500`. In this case, the agent perfectly solved the episode.\n",
    "\n",
    "The starting state is sampled randomly from the interval `[-0.05, 0.05]` for each state. Sometimes, the starting position is so close to balance that the episode is easy. Other times, the starting position is so off-balance that the episode is much harder to solve, and sometimes even impossible."
   ]
  },
  {
   "cell_type": "markdown",
   "metadata": {},
   "source": [
    "### <ins>Actions</ins>\n",
    "\n",
    "What about the **actions** our agent can perform?\n",
    " - 0 : Push the cart to the left.\n",
    " - 1 : Push the cart to the right.\n",
    "\n",
    "### <ins>Rewards</ins>\n",
    "The reward is `+1` for every step taken. This means that the longer the agent keeps the pole standing, the higher the cumulative reward.\n",
    "\n",
    "### <ins>Random Agent Baseline</ins>\n",
    "\n",
    "As usual, we use a `RandomAgent` to establish a baseline performance."
   ]
  },
  {
   "cell_type": "code",
   "execution_count": 10,
   "metadata": {},
   "outputs": [],
   "source": [
    "import numpy as np\n",
    "from typing import Tuple, List, Callable, Union, Optional\n",
    "import random\n",
    "import numpy as np\n",
    "from tqdm import tqdm\n",
    "\n",
    "class RandomAgent:\n",
    "    \"\"\"\n",
    "    This taxi driver selects actions randomly.\n",
    "    You better not get into this taxi!\n",
    "    \"\"\"\n",
    "    def __init__(self, env):\n",
    "        self.env = env\n",
    "\n",
    "    def act(self, state: np.array, epsilon: float = None) -> int:\n",
    "        \"\"\"\n",
    "        No input arguments to this function.\n",
    "        The agent does not consider the state of the environment when deciding\n",
    "        what to do next.\n",
    "        \"\"\"\n",
    "        return self.env.action_space.sample()\n",
    "\n",
    "def evaluate(\n",
    "    agent,\n",
    "    env,\n",
    "    n_episodes: int,\n",
    "    epsilon: Optional[float] = None,\n",
    "    seed: Optional[int] = 0,\n",
    ") -> Tuple[List, List]:\n",
    "\n",
    "    # output metrics\n",
    "    reward_per_episode = []\n",
    "    steps_per_episode = []\n",
    "\n",
    "    for i in tqdm(range(0, n_episodes)):\n",
    "\n",
    "        state = env.reset()\n",
    "        rewards = 0\n",
    "        steps = 0\n",
    "        done = False\n",
    "        while not done:\n",
    "\n",
    "            action = agent.act(state, epsilon=epsilon)\n",
    "            next_state, reward, done, info = env.step(action)\n",
    "\n",
    "            rewards += reward\n",
    "            steps += 1\n",
    "            state = next_state\n",
    "\n",
    "        reward_per_episode.append(rewards)\n",
    "        steps_per_episode.append(steps)\n",
    "\n",
    "    return reward_per_episode, steps_per_episode"
   ]
  },
  {
   "cell_type": "code",
   "execution_count": 11,
   "metadata": {},
   "outputs": [
    {
     "name": "stderr",
     "output_type": "stream",
     "text": [
      "100%|██████████| 1000/1000 [00:00<00:00, 1521.83it/s]\n"
     ]
    }
   ],
   "source": [
    "agent = RandomAgent(env)\n",
    "n_episodes = 1000\n",
    "rewards, steps = evaluate(agent, env, n_episodes)"
   ]
  },
  {
   "cell_type": "code",
   "execution_count": 13,
   "metadata": {},
   "outputs": [
    {
     "data": {
      "image/png": "[encoded data removed]",
      "text/plain": [
       "<Figure size 720x288 with 1 Axes>"
      ]
     },
     "metadata": {
      "needs_background": "light"
     },
     "output_type": "display_data"
    }
   ],
   "source": [
    "# SEE HOW FAR WE GOT\n",
    "import matplotlib.pyplot as plt\n",
    "import pandas as pd\n",
    "\n",
    "fig, ax = plt.subplots(figsize = (10, 4))\n",
    "ax.set_title(\"Rewards\")    \n",
    "pd.Series(rewards).plot(kind='hist', bins=100)\n",
    "\n",
    "plt.show()"
   ]
  },
  {
   "cell_type": "code",
   "execution_count": 12,
   "metadata": {},
   "outputs": [
    {
     "name": "stdout",
     "output_type": "stream",
     "text": [
      "Reward average 22.29, std 12.37\n"
     ]
    }
   ],
   "source": [
    "reward_avg = np.array(rewards).mean()\n",
    "reward_std = np.array(rewards).std()\n",
    "print(f'Reward average {reward_avg:.2f}, std {reward_std:.2f}')"
   ]
  },
  {
   "cell_type": "code",
   "execution_count": null,
   "metadata": {},
   "outputs": [],
   "source": []
  },
  {
   "cell_type": "code",
   "execution_count": null,
   "metadata": {},
   "outputs": [],
   "source": [
    "# Bad hyper-parameters\n",
    "hparams = {\n",
    "    'learning_rate': 9.214691713730938e-05,\n",
    "    'discount_factor': 0.99,\n",
    "    'batch_size': 32,\n",
    "    'memory_size': 10000,\n",
    "    'freq_steps_train': 16,\n",
    "    'freq_steps_update_target': 1000,\n",
    "    'n_steps_warm_up_memory': 1000,\n",
    "    'n_gradient_steps': 1,\n",
    "    'max_grad_norm': 1,\n",
    "    'normalize_state': True,\n",
    "    'epsilon_start': 0.9,\n",
    "    'epsilon_end': 0.08474621504763855,\n",
    "    'steps_epsilon_decay': 100000\n",
    "}"
   ]
  }
 ],
 "metadata": {
  "interpreter": {
   "hash": "aee8b7b246df8f9039afb4144a1f6fd8d2ca17a180786b69acc140d282b71a49"
  },
  "kernelspec": {
   "display_name": "Python 3.10.0 64-bit",
   "language": "python",
   "name": "python3"
  },
  "language_info": {
   "codemirror_mode": {
    "name": "ipython",
    "version": 3
   },
   "file_extension": ".py",
   "mimetype": "text/x-python",
   "name": "python",
   "nbconvert_exporter": "python",
   "pygments_lexer": "ipython3",
   "version": "3.10.0"
  },
  "orig_nbformat": 4
 },
 "nbformat": 4,
 "nbformat_minor": 2
}
